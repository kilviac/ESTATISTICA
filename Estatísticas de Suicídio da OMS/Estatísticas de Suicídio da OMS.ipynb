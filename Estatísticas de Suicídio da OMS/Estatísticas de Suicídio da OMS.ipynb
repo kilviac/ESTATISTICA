{
 "cells": [
  {
   "cell_type": "code",
   "execution_count": 1,
   "metadata": {},
   "outputs": [],
   "source": [
    "import pandas as pd\n",
    "import matplotlib.pyplot as plt\n",
    "%matplotlib inline"
   ]
  },
  {
   "cell_type": "markdown",
   "metadata": {},
   "source": [
    "# Estatísticas de suicídio da OMS"
   ]
  },
  {
   "cell_type": "markdown",
   "metadata": {},
   "source": [
    "**1 OBJETIVO**\n",
    "\n",
    "O seguinte projeto tem como objetivo analisar os números de suicídio dos dois países com maior e menor Índice de Desenvolvimento Humano (IDH), sendo eles Noruega, Austrália, Quirguistão e Nicarágua, com índices de 0.944, 0.935, 0.655 e 0.631, respectivamente, e analisar se os valores estão relacionados à qualidade de vida da população. \n",
    "  \n",
    "*(1) Os dois países com menor IDH não são de acordo com o ranking global de 2014, mas sim com os países que possuiam dados de 2010 a 2015 das Estatísticas de Suicídio da OMS no Kaggle.*\n",
    "\n",
    "*(2) Os dados do IDH estão de acordo com o site PNUD Brasil, disponível em < http://www.br.undp.org/content/brazil/pt/home/idh0/rankings/idh-global.html >*\n",
    "\n",
    "*(3) Todos os cálculos de equivalência para 2 milhões e 100 mil pessoas foram feitos com base no somatório dos dados das idades do Kaggle. Estes somatórios se encontram no documento DADOS.*"
   ]
  },
  {
   "cell_type": "markdown",
   "metadata": {},
   "source": [
    "**2 EVOLUÇÃO DE SUICÍDIOS DE 2010 A 2015**\n",
    "\n",
    "**2.1 Suicídios Femininos**"
   ]
  },
  {
   "cell_type": "code",
   "execution_count": 2,
   "metadata": {},
   "outputs": [
    {
     "data": {
      "text/html": [
       "<div>\n",
       "<style scoped>\n",
       "    .dataframe tbody tr th:only-of-type {\n",
       "        vertical-align: middle;\n",
       "    }\n",
       "\n",
       "    .dataframe tbody tr th {\n",
       "        vertical-align: top;\n",
       "    }\n",
       "\n",
       "    .dataframe thead th {\n",
       "        text-align: right;\n",
       "    }\n",
       "</style>\n",
       "<table border=\"1\" class=\"dataframe\">\n",
       "  <thead>\n",
       "    <tr style=\"text-align: right;\">\n",
       "      <th></th>\n",
       "      <th>Noruega</th>\n",
       "      <th>Austrália</th>\n",
       "      <th>Quirguistăo</th>\n",
       "      <th>Nicarágua</th>\n",
       "    </tr>\n",
       "  </thead>\n",
       "  <tbody>\n",
       "    <tr>\n",
       "      <th>2010</th>\n",
       "      <td>142</td>\n",
       "      <td>105</td>\n",
       "      <td>85</td>\n",
       "      <td>59</td>\n",
       "    </tr>\n",
       "    <tr>\n",
       "      <th>2011</th>\n",
       "      <td>141</td>\n",
       "      <td>110</td>\n",
       "      <td>87</td>\n",
       "      <td>70</td>\n",
       "    </tr>\n",
       "    <tr>\n",
       "      <th>2012</th>\n",
       "      <td>124</td>\n",
       "      <td>102</td>\n",
       "      <td>97</td>\n",
       "      <td>61</td>\n",
       "    </tr>\n",
       "    <tr>\n",
       "      <th>2013</th>\n",
       "      <td>148</td>\n",
       "      <td>122</td>\n",
       "      <td>76</td>\n",
       "      <td>55</td>\n",
       "    </tr>\n",
       "    <tr>\n",
       "      <th>2014</th>\n",
       "      <td>122</td>\n",
       "      <td>128</td>\n",
       "      <td>79</td>\n",
       "      <td>50</td>\n",
       "    </tr>\n",
       "    <tr>\n",
       "      <th>2015</th>\n",
       "      <td>156</td>\n",
       "      <td>131</td>\n",
       "      <td>68</td>\n",
       "      <td>62</td>\n",
       "    </tr>\n",
       "  </tbody>\n",
       "</table>\n",
       "</div>"
      ],
      "text/plain": [
       "      Noruega  Austrália  Quirguistăo  Nicarágua\n",
       "2010      142        105           85         59\n",
       "2011      141        110           87         70\n",
       "2012      124        102           97         61\n",
       "2013      148        122           76         55\n",
       "2014      122        128           79         50\n",
       "2015      156        131           68         62"
      ]
     },
     "execution_count": 2,
     "metadata": {},
     "output_type": "execute_result"
    }
   ],
   "source": [
    "df1 = pd.read_csv('TFEv.csv',encoding=\"latin2\", delimiter = ';', index_col = 0)\n",
    "df1"
   ]
  },
  {
   "cell_type": "code",
   "execution_count": 3,
   "metadata": {},
   "outputs": [
    {
     "data": {
      "text/plain": [
       "Text(0,0.5,'Valores a cada 2 milhões')"
      ]
     },
     "execution_count": 3,
     "metadata": {},
     "output_type": "execute_result"
    },
    {
     "data": {
      "image/png": "[encoded data removed]",
      "text/plain": [
       "<Figure size 1440x360 with 1 Axes>"
      ]
     },
     "metadata": {
      "needs_background": "light"
     },
     "output_type": "display_data"
    }
   ],
   "source": [
    "df1.plot.bar(figsize=(20, 5), title = 'Evolução dos suicídios femininos', grid=True)\n",
    "plt.ylabel('Valores a cada 2 milhões')"
   ]
  },
  {
   "cell_type": "markdown",
   "metadata": {},
   "source": [
    "**2.2 Suicídios Masculinos**"
   ]
  },
  {
   "cell_type": "code",
   "execution_count": 4,
   "metadata": {},
   "outputs": [
    {
     "data": {
      "text/html": [
       "<div>\n",
       "<style scoped>\n",
       "    .dataframe tbody tr th:only-of-type {\n",
       "        vertical-align: middle;\n",
       "    }\n",
       "\n",
       "    .dataframe tbody tr th {\n",
       "        vertical-align: top;\n",
       "    }\n",
       "\n",
       "    .dataframe thead th {\n",
       "        text-align: right;\n",
       "    }\n",
       "</style>\n",
       "<table border=\"1\" class=\"dataframe\">\n",
       "  <thead>\n",
       "    <tr style=\"text-align: right;\">\n",
       "      <th></th>\n",
       "      <th>Noruega</th>\n",
       "      <th>Austrália</th>\n",
       "      <th>Quirguistăo</th>\n",
       "      <th>Nicarágua</th>\n",
       "    </tr>\n",
       "  </thead>\n",
       "  <tbody>\n",
       "    <tr>\n",
       "      <th>2010</th>\n",
       "      <td>334</td>\n",
       "      <td>360</td>\n",
       "      <td>333</td>\n",
       "      <td>218</td>\n",
       "    </tr>\n",
       "    <tr>\n",
       "      <th>2011</th>\n",
       "      <td>374</td>\n",
       "      <td>349</td>\n",
       "      <td>303</td>\n",
       "      <td>217</td>\n",
       "    </tr>\n",
       "    <tr>\n",
       "      <th>2012</th>\n",
       "      <td>313</td>\n",
       "      <td>365</td>\n",
       "      <td>331</td>\n",
       "      <td>181</td>\n",
       "    </tr>\n",
       "    <tr>\n",
       "      <th>2013</th>\n",
       "      <td>316</td>\n",
       "      <td>362</td>\n",
       "      <td>280</td>\n",
       "      <td>211</td>\n",
       "    </tr>\n",
       "    <tr>\n",
       "      <th>2014</th>\n",
       "      <td>344</td>\n",
       "      <td>401</td>\n",
       "      <td>285</td>\n",
       "      <td>181</td>\n",
       "    </tr>\n",
       "    <tr>\n",
       "      <th>2015</th>\n",
       "      <td>325</td>\n",
       "      <td>415</td>\n",
       "      <td>255</td>\n",
       "      <td>171</td>\n",
       "    </tr>\n",
       "  </tbody>\n",
       "</table>\n",
       "</div>"
      ],
      "text/plain": [
       "      Noruega  Austrália  Quirguistăo  Nicarágua\n",
       "2010      334        360          333        218\n",
       "2011      374        349          303        217\n",
       "2012      313        365          331        181\n",
       "2013      316        362          280        211\n",
       "2014      344        401          285        181\n",
       "2015      325        415          255        171"
      ]
     },
     "execution_count": 4,
     "metadata": {},
     "output_type": "execute_result"
    }
   ],
   "source": [
    "df2 = pd.read_csv('TMEv.csv',encoding=\"latin2\", delimiter = ';', index_col = 0)\n",
    "df2"
   ]
  },
  {
   "cell_type": "code",
   "execution_count": 5,
   "metadata": {},
   "outputs": [
    {
     "data": {
      "text/plain": [
       "Text(0,0.5,'Valores a cada 2 milhões')"
      ]
     },
     "execution_count": 5,
     "metadata": {},
     "output_type": "execute_result"
    },
    {
     "data": {
      "image/png": "[encoded data removed]",
      "text/plain": [
       "<Figure size 1440x360 with 1 Axes>"
      ]
     },
     "metadata": {
      "needs_background": "light"
     },
     "output_type": "display_data"
    }
   ],
   "source": [
    "df2.plot.bar(figsize=(20, 5), title = 'Evolução dos suicídios masculinos', grid=True)\n",
    "plt.ylabel('Valores a cada 2 milhões')"
   ]
  },
  {
   "cell_type": "markdown",
   "metadata": {},
   "source": [
    "**2.3 Total de Suicídios**"
   ]
  },
  {
   "cell_type": "code",
   "execution_count": 6,
   "metadata": {},
   "outputs": [
    {
     "data": {
      "text/html": [
       "<div>\n",
       "<style scoped>\n",
       "    .dataframe tbody tr th:only-of-type {\n",
       "        vertical-align: middle;\n",
       "    }\n",
       "\n",
       "    .dataframe tbody tr th {\n",
       "        vertical-align: top;\n",
       "    }\n",
       "\n",
       "    .dataframe thead th {\n",
       "        text-align: right;\n",
       "    }\n",
       "</style>\n",
       "<table border=\"1\" class=\"dataframe\">\n",
       "  <thead>\n",
       "    <tr style=\"text-align: right;\">\n",
       "      <th></th>\n",
       "      <th>Noruega</th>\n",
       "      <th>Austrália</th>\n",
       "      <th>Quirguistăo</th>\n",
       "      <th>Nicarágua</th>\n",
       "    </tr>\n",
       "  </thead>\n",
       "  <tbody>\n",
       "    <tr>\n",
       "      <th>2010</th>\n",
       "      <td>476</td>\n",
       "      <td>465</td>\n",
       "      <td>418</td>\n",
       "      <td>277</td>\n",
       "    </tr>\n",
       "    <tr>\n",
       "      <th>2011</th>\n",
       "      <td>515</td>\n",
       "      <td>459</td>\n",
       "      <td>390</td>\n",
       "      <td>287</td>\n",
       "    </tr>\n",
       "    <tr>\n",
       "      <th>2012</th>\n",
       "      <td>437</td>\n",
       "      <td>467</td>\n",
       "      <td>428</td>\n",
       "      <td>242</td>\n",
       "    </tr>\n",
       "    <tr>\n",
       "      <th>2013</th>\n",
       "      <td>364</td>\n",
       "      <td>484</td>\n",
       "      <td>356</td>\n",
       "      <td>266</td>\n",
       "    </tr>\n",
       "    <tr>\n",
       "      <th>2014</th>\n",
       "      <td>466</td>\n",
       "      <td>529</td>\n",
       "      <td>364</td>\n",
       "      <td>231</td>\n",
       "    </tr>\n",
       "    <tr>\n",
       "      <th>2015</th>\n",
       "      <td>481</td>\n",
       "      <td>546</td>\n",
       "      <td>323</td>\n",
       "      <td>233</td>\n",
       "    </tr>\n",
       "  </tbody>\n",
       "</table>\n",
       "</div>"
      ],
      "text/plain": [
       "      Noruega  Austrália  Quirguistăo  Nicarágua\n",
       "2010      476        465          418        277\n",
       "2011      515        459          390        287\n",
       "2012      437        467          428        242\n",
       "2013      364        484          356        266\n",
       "2014      466        529          364        231\n",
       "2015      481        546          323        233"
      ]
     },
     "execution_count": 6,
     "metadata": {},
     "output_type": "execute_result"
    }
   ],
   "source": [
    "df3 = pd.read_csv('TEv.csv',encoding=\"latin2\", delimiter = ';', index_col = 0)\n",
    "df3"
   ]
  },
  {
   "cell_type": "code",
   "execution_count": 7,
   "metadata": {},
   "outputs": [
    {
     "data": {
      "text/plain": [
       "Text(0,0.5,'Valores a cada 2 milhões')"
      ]
     },
     "execution_count": 7,
     "metadata": {},
     "output_type": "execute_result"
    },
    {
     "data": {
      "image/png": "[encoded data removed]",
      "text/plain": [
       "<Figure size 1440x360 with 1 Axes>"
      ]
     },
     "metadata": {
      "needs_background": "light"
     },
     "output_type": "display_data"
    }
   ],
   "source": [
    "df3.plot.bar(figsize=(20, 5), title = 'Evolução do total de suicídios', grid=True)\n",
    "plt.ylabel('Valores a cada 2 milhões')"
   ]
  },
  {
   "cell_type": "markdown",
   "metadata": {},
   "source": [
    "**2.4 Análise:** \n",
    "\n",
    "Observando os gráficos vemos que, com base na mesma quantidade de pessoas (nesse estudo foram admitidas 2 milhões de pessoas),  o índice de suicídio entre homens é maior que entre mulheres em todos os países. Em ambos os sexos, a Noruega e Austrália oscilam entre o país com maior índice de suicídio, e o Quirguistão e a Nicarágua permanecem sempre em terceiro e quarto lugar, respectivamente. Nos suicídios femininos, a Austrália ultrapassou a Noruega em 6 casos no ano de 2014, e nos suicídios masculinos, a Austrália liderou em todos os anos, exceto em 2011, em que a Noruega teve 25 casos a mais."
   ]
  },
  {
   "cell_type": "markdown",
   "metadata": {},
   "source": [
    "**3 SUICÍDIOS POR IDADE EM 2015**\n",
    "\n",
    "**3.1 Suicídios Femininos**"
   ]
  },
  {
   "cell_type": "code",
   "execution_count": 8,
   "metadata": {},
   "outputs": [
    {
     "data": {
      "text/html": [
       "<div>\n",
       "<style scoped>\n",
       "    .dataframe tbody tr th:only-of-type {\n",
       "        vertical-align: middle;\n",
       "    }\n",
       "\n",
       "    .dataframe tbody tr th {\n",
       "        vertical-align: top;\n",
       "    }\n",
       "\n",
       "    .dataframe thead th {\n",
       "        text-align: right;\n",
       "    }\n",
       "</style>\n",
       "<table border=\"1\" class=\"dataframe\">\n",
       "  <thead>\n",
       "    <tr style=\"text-align: right;\">\n",
       "      <th></th>\n",
       "      <th>Noruega</th>\n",
       "      <th>Austrália</th>\n",
       "      <th>Quirguistăo</th>\n",
       "      <th>Nicarágua</th>\n",
       "    </tr>\n",
       "  </thead>\n",
       "  <tbody>\n",
       "    <tr>\n",
       "      <th>5-14</th>\n",
       "      <td>0</td>\n",
       "      <td>0</td>\n",
       "      <td>1</td>\n",
       "      <td>1</td>\n",
       "    </tr>\n",
       "    <tr>\n",
       "      <th>15-24</th>\n",
       "      <td>5</td>\n",
       "      <td>7</td>\n",
       "      <td>6</td>\n",
       "      <td>7</td>\n",
       "    </tr>\n",
       "    <tr>\n",
       "      <th>25-34</th>\n",
       "      <td>8</td>\n",
       "      <td>6</td>\n",
       "      <td>2</td>\n",
       "      <td>3</td>\n",
       "    </tr>\n",
       "    <tr>\n",
       "      <th>35-54</th>\n",
       "      <td>8</td>\n",
       "      <td>9</td>\n",
       "      <td>3</td>\n",
       "      <td>2</td>\n",
       "    </tr>\n",
       "    <tr>\n",
       "      <th>55-74</th>\n",
       "      <td>11</td>\n",
       "      <td>6</td>\n",
       "      <td>2</td>\n",
       "      <td>1</td>\n",
       "    </tr>\n",
       "    <tr>\n",
       "      <th>75+</th>\n",
       "      <td>7</td>\n",
       "      <td>5</td>\n",
       "      <td>5</td>\n",
       "      <td>0</td>\n",
       "    </tr>\n",
       "  </tbody>\n",
       "</table>\n",
       "</div>"
      ],
      "text/plain": [
       "       Noruega  Austrália  Quirguistăo  Nicarágua\n",
       "5-14         0          0            1          1\n",
       "15-24        5          7            6          7\n",
       "25-34        8          6            2          3\n",
       "35-54        8          9            3          2\n",
       "55-74       11          6            2          1\n",
       "75+          7          5            5          0"
      ]
     },
     "execution_count": 8,
     "metadata": {},
     "output_type": "execute_result"
    }
   ],
   "source": [
    "df4 = pd.read_csv('IDF.csv',encoding=\"latin2\", delimiter = ';', index_col = 0)\n",
    "df4"
   ]
  },
  {
   "cell_type": "code",
   "execution_count": 9,
   "metadata": {},
   "outputs": [
    {
     "data": {
      "text/plain": [
       "Text(0,0.5,'Valores a cada 100 mil')"
      ]
     },
     "execution_count": 9,
     "metadata": {},
     "output_type": "execute_result"
    },
    {
     "data": {
      "image/png": "[encoded data removed]",
      "text/plain": [
       "<Figure size 1080x360 with 1 Axes>"
      ]
     },
     "metadata": {
      "needs_background": "light"
     },
     "output_type": "display_data"
    }
   ],
   "source": [
    "df4.plot.bar(figsize=(15, 5), title = 'Suicídios femininos por idade em 2015', grid=True)\n",
    "plt.ylabel('Valores a cada 100 mil')"
   ]
  },
  {
   "cell_type": "markdown",
   "metadata": {},
   "source": [
    "**3.2 Suicídios Masculinos**"
   ]
  },
  {
   "cell_type": "code",
   "execution_count": 10,
   "metadata": {},
   "outputs": [
    {
     "data": {
      "text/html": [
       "<div>\n",
       "<style scoped>\n",
       "    .dataframe tbody tr th:only-of-type {\n",
       "        vertical-align: middle;\n",
       "    }\n",
       "\n",
       "    .dataframe tbody tr th {\n",
       "        vertical-align: top;\n",
       "    }\n",
       "\n",
       "    .dataframe thead th {\n",
       "        text-align: right;\n",
       "    }\n",
       "</style>\n",
       "<table border=\"1\" class=\"dataframe\">\n",
       "  <thead>\n",
       "    <tr style=\"text-align: right;\">\n",
       "      <th></th>\n",
       "      <th>Noruega</th>\n",
       "      <th>Austrália</th>\n",
       "      <th>Quirguistăo</th>\n",
       "      <th>Nicarágua</th>\n",
       "    </tr>\n",
       "  </thead>\n",
       "  <tbody>\n",
       "    <tr>\n",
       "      <th>5-14</th>\n",
       "      <td>0</td>\n",
       "      <td>0</td>\n",
       "      <td>3</td>\n",
       "      <td>0</td>\n",
       "    </tr>\n",
       "    <tr>\n",
       "      <th>15-24</th>\n",
       "      <td>12</td>\n",
       "      <td>17</td>\n",
       "      <td>11</td>\n",
       "      <td>11</td>\n",
       "    </tr>\n",
       "    <tr>\n",
       "      <th>25-34</th>\n",
       "      <td>17</td>\n",
       "      <td>24</td>\n",
       "      <td>13</td>\n",
       "      <td>12</td>\n",
       "    </tr>\n",
       "    <tr>\n",
       "      <th>35-54</th>\n",
       "      <td>19</td>\n",
       "      <td>29</td>\n",
       "      <td>21</td>\n",
       "      <td>11</td>\n",
       "    </tr>\n",
       "    <tr>\n",
       "      <th>55-74</th>\n",
       "      <td>21</td>\n",
       "      <td>19</td>\n",
       "      <td>15</td>\n",
       "      <td>7</td>\n",
       "    </tr>\n",
       "    <tr>\n",
       "      <th>75+</th>\n",
       "      <td>21</td>\n",
       "      <td>26</td>\n",
       "      <td>12</td>\n",
       "      <td>12</td>\n",
       "    </tr>\n",
       "  </tbody>\n",
       "</table>\n",
       "</div>"
      ],
      "text/plain": [
       "       Noruega  Austrália  Quirguistăo  Nicarágua\n",
       "5-14         0          0            3          0\n",
       "15-24       12         17           11         11\n",
       "25-34       17         24           13         12\n",
       "35-54       19         29           21         11\n",
       "55-74       21         19           15          7\n",
       "75+         21         26           12         12"
      ]
     },
     "execution_count": 10,
     "metadata": {},
     "output_type": "execute_result"
    }
   ],
   "source": [
    "df5 = pd.read_csv('IDM.csv',encoding=\"latin2\", delimiter = ';', index_col = 0)\n",
    "df5"
   ]
  },
  {
   "cell_type": "code",
   "execution_count": 11,
   "metadata": {},
   "outputs": [
    {
     "data": {
      "text/plain": [
       "Text(0,0.5,'Valores a cada 100 mil')"
      ]
     },
     "execution_count": 11,
     "metadata": {},
     "output_type": "execute_result"
    },
    {
     "data": {
      "image/png": "[encoded data removed]",
      "text/plain": [
       "<Figure size 1080x360 with 1 Axes>"
      ]
     },
     "metadata": {
      "needs_background": "light"
     },
     "output_type": "display_data"
    }
   ],
   "source": [
    "df5.plot.bar(figsize=(15, 5), title = 'Suicídios masculinos por idade em 2015', grid=True)\n",
    "plt.ylabel('Valores a cada 100 mil')"
   ]
  },
  {
   "cell_type": "markdown",
   "metadata": {},
   "source": [
    "**3.3 Total de Suicídios**"
   ]
  },
  {
   "cell_type": "code",
   "execution_count": 12,
   "metadata": {},
   "outputs": [
    {
     "data": {
      "text/html": [
       "<div>\n",
       "<style scoped>\n",
       "    .dataframe tbody tr th:only-of-type {\n",
       "        vertical-align: middle;\n",
       "    }\n",
       "\n",
       "    .dataframe tbody tr th {\n",
       "        vertical-align: top;\n",
       "    }\n",
       "\n",
       "    .dataframe thead th {\n",
       "        text-align: right;\n",
       "    }\n",
       "</style>\n",
       "<table border=\"1\" class=\"dataframe\">\n",
       "  <thead>\n",
       "    <tr style=\"text-align: right;\">\n",
       "      <th></th>\n",
       "      <th>Noruega</th>\n",
       "      <th>Austrália</th>\n",
       "      <th>Quirguistăo</th>\n",
       "      <th>Nicarágua</th>\n",
       "    </tr>\n",
       "  </thead>\n",
       "  <tbody>\n",
       "    <tr>\n",
       "      <th>5-14</th>\n",
       "      <td>0</td>\n",
       "      <td>0</td>\n",
       "      <td>4</td>\n",
       "      <td>1</td>\n",
       "    </tr>\n",
       "    <tr>\n",
       "      <th>15-24</th>\n",
       "      <td>17</td>\n",
       "      <td>24</td>\n",
       "      <td>17</td>\n",
       "      <td>18</td>\n",
       "    </tr>\n",
       "    <tr>\n",
       "      <th>25-34</th>\n",
       "      <td>25</td>\n",
       "      <td>30</td>\n",
       "      <td>23</td>\n",
       "      <td>15</td>\n",
       "    </tr>\n",
       "    <tr>\n",
       "      <th>35-54</th>\n",
       "      <td>27</td>\n",
       "      <td>38</td>\n",
       "      <td>24</td>\n",
       "      <td>13</td>\n",
       "    </tr>\n",
       "    <tr>\n",
       "      <th>55-74</th>\n",
       "      <td>32</td>\n",
       "      <td>25</td>\n",
       "      <td>17</td>\n",
       "      <td>8</td>\n",
       "    </tr>\n",
       "    <tr>\n",
       "      <th>75+</th>\n",
       "      <td>28</td>\n",
       "      <td>31</td>\n",
       "      <td>17</td>\n",
       "      <td>12</td>\n",
       "    </tr>\n",
       "  </tbody>\n",
       "</table>\n",
       "</div>"
      ],
      "text/plain": [
       "       Noruega  Austrália  Quirguistăo  Nicarágua\n",
       "5-14         0          0            4          1\n",
       "15-24       17         24           17         18\n",
       "25-34       25         30           23         15\n",
       "35-54       27         38           24         13\n",
       "55-74       32         25           17          8\n",
       "75+         28         31           17         12"
      ]
     },
     "execution_count": 12,
     "metadata": {},
     "output_type": "execute_result"
    }
   ],
   "source": [
    "df6 = pd.read_csv('IDT.csv',encoding=\"latin2\", delimiter = ';', index_col = 0)\n",
    "df6"
   ]
  },
  {
   "cell_type": "code",
   "execution_count": 13,
   "metadata": {},
   "outputs": [
    {
     "data": {
      "text/plain": [
       "Text(0,0.5,'Valores a cada 100 mil')"
      ]
     },
     "execution_count": 13,
     "metadata": {},
     "output_type": "execute_result"
    },
    {
     "data": {
      "image/png": "[encoded data removed]",
      "text/plain": [
       "<Figure size 1080x360 with 1 Axes>"
      ]
     },
     "metadata": {
      "needs_background": "light"
     },
     "output_type": "display_data"
    }
   ],
   "source": [
    "df6.plot.bar(figsize=(15, 5), title = 'Total de suicídios por idade em 2015', grid=True)\n",
    "plt.ylabel('Valores a cada 100 mil')"
   ]
  },
  {
   "cell_type": "markdown",
   "metadata": {},
   "source": [
    "**3.4 Análise:** \n",
    "\n",
    "\n",
    "  Com base nos dados de suicídio por idade em 2015 nesses quatro países, podemos observar que a Noruega e Austrália continuam oscilando pelo topo em números de suicídio em ambos os sexos. Nos casos entre mulheres os índices de jovens entre 5 a 14 anos é inexistente nos países com maiores IDH. A Austrália lidera de 15 a 24 anos e 35 a 54 anos, e entre 55 e 74 anos a Noruega possui quase o dobro de casos da Austrália e onze vezes mais que a Nicarágua, país com o menor IDH. Entre homens, apenas o Quirguistão possui casos de 5 a 14 anos, e a Austrália lidera em todas os intervalos de idades, exceto entre 55 e 74 anos, em que a Noruega teve 2 casos a mais. O Quirguistão e a Nicarágua permanecem em empate entre 15 e 24 anos e mais de 75, nos demais, o Quirguistão possui mais casos de suicídio."
   ]
  },
  {
   "cell_type": "markdown",
   "metadata": {},
   "source": [
    "**4 ANÁLISE FINAL**\n",
    "\n",
    "Através dos gráficos acima podemos concluir que as taxas de suicídio são maiores em países mais desenvolvidos, e com isso entendemos que o conceito que temos de \"felicidade\" como sendo dinheiro, saúde, prosperidade e conforto está inteiramente ligado as razões de suicídio, mas não da forma que imaginamos. Os autores do estudo *\"Dark Contrasts: The Paradox of High Rates of Suicide in Happy Places\"* enfatizam que uma explicação para isso seria a demonstração de felicidade dos outros em comparação a dos suicídas, sendo um fator de risco para as pessoas com baixa autoestima se tornarem descontentes por viver em um lugar onde as outras pessoas demostram mais felicidade do que elas. Sobre os números de suicídios entre as idades, podemos citar alguns fatores que levam aos altos índices entre os idosos, sendo eles solidão, isolamento, falta de suporte social e perspectiva de vida, doenças incapacitantes, perda de referências sociais, entre outros fatores biológicos, psicológicos, econômicos e sociais. "
   ]
  }
 ],
 "metadata": {
  "kernelspec": {
   "display_name": "Python 3",
   "language": "python",
   "name": "python3"
  },
  "language_info": {
   "codemirror_mode": {
    "name": "ipython",
    "version": 3
   },
   "file_extension": ".py",
   "mimetype": "text/x-python",
   "name": "python",
   "nbconvert_exporter": "python",
   "pygments_lexer": "ipython3",
   "version": "3.7.0"
  }
 },
 "nbformat": 4,
 "nbformat_minor": 2
}
